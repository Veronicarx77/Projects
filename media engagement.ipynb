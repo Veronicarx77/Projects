{
 "cells": [
  {
   "cell_type": "code",
   "execution_count": 1,
   "id": "15201761",
   "metadata": {},
   "outputs": [],
   "source": [
    "import numpy as np\n",
    "import pandas as pd\n",
    "import matplotlib.pyplot as plt"
   ]
  },
  {
   "cell_type": "code",
   "execution_count": 2,
   "id": "4dbf38af",
   "metadata": {},
   "outputs": [],
   "source": [
    "df = pd.read_csv('social_data.csv')"
   ]
  },
  {
   "cell_type": "code",
   "execution_count": 3,
   "id": "10b0c038",
   "metadata": {},
   "outputs": [],
   "source": [
    "df.loc[df['Total Impressions'] != 0, 'Engagement Rate'] = df['Total Engagements'] / df['Total Impressions']\n",
    "df.loc[df['Total Impressions'] == 0, 'Engagement Rate'] = 0"
   ]
  },
  {
   "cell_type": "code",
   "execution_count": 4,
   "id": "a265c2ae",
   "metadata": {},
   "outputs": [
    {
     "data": {
      "text/html": [
       "<div>\n",
       "<style scoped>\n",
       "    .dataframe tbody tr th:only-of-type {\n",
       "        vertical-align: middle;\n",
       "    }\n",
       "\n",
       "    .dataframe tbody tr th {\n",
       "        vertical-align: top;\n",
       "    }\n",
       "\n",
       "    .dataframe thead th {\n",
       "        text-align: right;\n",
       "    }\n",
       "</style>\n",
       "<table border=\"1\" class=\"dataframe\">\n",
       "  <thead>\n",
       "    <tr style=\"text-align: right;\">\n",
       "      <th></th>\n",
       "      <th>Published Date</th>\n",
       "      <th>Account</th>\n",
       "      <th>Account Type</th>\n",
       "      <th>Campaign Name</th>\n",
       "      <th>Total Impressions</th>\n",
       "      <th>Total Engagements</th>\n",
       "      <th>Media Type</th>\n",
       "      <th>Engagement Rate</th>\n",
       "    </tr>\n",
       "  </thead>\n",
       "  <tbody>\n",
       "    <tr>\n",
       "      <th>0</th>\n",
       "      <td>03-31-2023 19:55</td>\n",
       "      <td>CSGO</td>\n",
       "      <td>TWITTER</td>\n",
       "      <td>N/A</td>\n",
       "      <td>0</td>\n",
       "      <td>0</td>\n",
       "      <td>Text</td>\n",
       "      <td>0.000000</td>\n",
       "    </tr>\n",
       "    <tr>\n",
       "      <th>1</th>\n",
       "      <td>03-31-2023 19:49</td>\n",
       "      <td>CSGO</td>\n",
       "      <td>TWITTER</td>\n",
       "      <td>N/A</td>\n",
       "      <td>0</td>\n",
       "      <td>0</td>\n",
       "      <td>Text</td>\n",
       "      <td>0.000000</td>\n",
       "    </tr>\n",
       "    <tr>\n",
       "      <th>2</th>\n",
       "      <td>03-31-2023 19:49</td>\n",
       "      <td>CSGO</td>\n",
       "      <td>TWITTER</td>\n",
       "      <td>N/A</td>\n",
       "      <td>0</td>\n",
       "      <td>0</td>\n",
       "      <td>Text</td>\n",
       "      <td>0.000000</td>\n",
       "    </tr>\n",
       "    <tr>\n",
       "      <th>3</th>\n",
       "      <td>03-31-2023 19:49</td>\n",
       "      <td>CSGO</td>\n",
       "      <td>TWITTER</td>\n",
       "      <td>N/A</td>\n",
       "      <td>0</td>\n",
       "      <td>0</td>\n",
       "      <td>Text</td>\n",
       "      <td>0.000000</td>\n",
       "    </tr>\n",
       "    <tr>\n",
       "      <th>4</th>\n",
       "      <td>03-31-2023 19:43</td>\n",
       "      <td>CSGO</td>\n",
       "      <td>TWITTER</td>\n",
       "      <td>Community Engagement</td>\n",
       "      <td>9517</td>\n",
       "      <td>1215</td>\n",
       "      <td>Video</td>\n",
       "      <td>0.127666</td>\n",
       "    </tr>\n",
       "    <tr>\n",
       "      <th>5</th>\n",
       "      <td>03-31-2023 19:42</td>\n",
       "      <td>CSGO</td>\n",
       "      <td>TWITTER</td>\n",
       "      <td>N/A</td>\n",
       "      <td>0</td>\n",
       "      <td>0</td>\n",
       "      <td>Photo</td>\n",
       "      <td>0.000000</td>\n",
       "    </tr>\n",
       "    <tr>\n",
       "      <th>6</th>\n",
       "      <td>03-31-2023 19:40</td>\n",
       "      <td>CSGO</td>\n",
       "      <td>TWITTER</td>\n",
       "      <td>Community Engagement</td>\n",
       "      <td>1882</td>\n",
       "      <td>83</td>\n",
       "      <td>Photo</td>\n",
       "      <td>0.044102</td>\n",
       "    </tr>\n",
       "    <tr>\n",
       "      <th>7</th>\n",
       "      <td>03-31-2023 19:23</td>\n",
       "      <td>CSGO</td>\n",
       "      <td>TWITTER</td>\n",
       "      <td>Community Engagement</td>\n",
       "      <td>17892</td>\n",
       "      <td>3076</td>\n",
       "      <td>Video</td>\n",
       "      <td>0.171920</td>\n",
       "    </tr>\n",
       "    <tr>\n",
       "      <th>8</th>\n",
       "      <td>03-31-2023 19:15</td>\n",
       "      <td>CSGO</td>\n",
       "      <td>TWITTER</td>\n",
       "      <td>N/A</td>\n",
       "      <td>0</td>\n",
       "      <td>0</td>\n",
       "      <td>Video</td>\n",
       "      <td>0.000000</td>\n",
       "    </tr>\n",
       "    <tr>\n",
       "      <th>9</th>\n",
       "      <td>03-31-2023 18:55</td>\n",
       "      <td>CSGO</td>\n",
       "      <td>TWITTER</td>\n",
       "      <td>Community Engagement</td>\n",
       "      <td>13874</td>\n",
       "      <td>1447</td>\n",
       "      <td>Video</td>\n",
       "      <td>0.104296</td>\n",
       "    </tr>\n",
       "    <tr>\n",
       "      <th>10</th>\n",
       "      <td>03-31-2023 18:36</td>\n",
       "      <td>General</td>\n",
       "      <td>FBPAGE</td>\n",
       "      <td>Community Engagement</td>\n",
       "      <td>37692</td>\n",
       "      <td>8044</td>\n",
       "      <td>Photo</td>\n",
       "      <td>0.213414</td>\n",
       "    </tr>\n",
       "    <tr>\n",
       "      <th>11</th>\n",
       "      <td>03-31-2023 18:30</td>\n",
       "      <td>DOTA2</td>\n",
       "      <td>TWITTER</td>\n",
       "      <td>N/A</td>\n",
       "      <td>1013</td>\n",
       "      <td>153</td>\n",
       "      <td>Link</td>\n",
       "      <td>0.151037</td>\n",
       "    </tr>\n",
       "    <tr>\n",
       "      <th>12</th>\n",
       "      <td>03-31-2023 18:28</td>\n",
       "      <td>DOTA2</td>\n",
       "      <td>TWITTER</td>\n",
       "      <td>N/A</td>\n",
       "      <td>4630</td>\n",
       "      <td>339</td>\n",
       "      <td>Photo</td>\n",
       "      <td>0.073218</td>\n",
       "    </tr>\n",
       "    <tr>\n",
       "      <th>13</th>\n",
       "      <td>03-31-2023 18:21</td>\n",
       "      <td>CSGO</td>\n",
       "      <td>TWITTER</td>\n",
       "      <td>Community Engagement</td>\n",
       "      <td>2289</td>\n",
       "      <td>41</td>\n",
       "      <td>Photo</td>\n",
       "      <td>0.017912</td>\n",
       "    </tr>\n",
       "    <tr>\n",
       "      <th>14</th>\n",
       "      <td>03-31-2023 17:11</td>\n",
       "      <td>General</td>\n",
       "      <td>TWITTER</td>\n",
       "      <td>Community Engagement</td>\n",
       "      <td>5216</td>\n",
       "      <td>113</td>\n",
       "      <td>Text</td>\n",
       "      <td>0.021664</td>\n",
       "    </tr>\n",
       "    <tr>\n",
       "      <th>15</th>\n",
       "      <td>03-31-2023 17:09</td>\n",
       "      <td>CSGO</td>\n",
       "      <td>TWITTER</td>\n",
       "      <td>Community Engagement</td>\n",
       "      <td>841</td>\n",
       "      <td>13</td>\n",
       "      <td>Photo</td>\n",
       "      <td>0.015458</td>\n",
       "    </tr>\n",
       "    <tr>\n",
       "      <th>16</th>\n",
       "      <td>03-31-2023 16:50</td>\n",
       "      <td>General</td>\n",
       "      <td>TWITTER</td>\n",
       "      <td>Community Engagement</td>\n",
       "      <td>6498</td>\n",
       "      <td>123</td>\n",
       "      <td>Text</td>\n",
       "      <td>0.018929</td>\n",
       "    </tr>\n",
       "    <tr>\n",
       "      <th>17</th>\n",
       "      <td>03-31-2023 16:50</td>\n",
       "      <td>General</td>\n",
       "      <td>TWITTER</td>\n",
       "      <td>Community Engagement</td>\n",
       "      <td>8321</td>\n",
       "      <td>133</td>\n",
       "      <td>Text</td>\n",
       "      <td>0.015984</td>\n",
       "    </tr>\n",
       "    <tr>\n",
       "      <th>18</th>\n",
       "      <td>03-31-2023 16:38</td>\n",
       "      <td>General</td>\n",
       "      <td>TWITTER</td>\n",
       "      <td>Community Engagement</td>\n",
       "      <td>953</td>\n",
       "      <td>36</td>\n",
       "      <td>Text</td>\n",
       "      <td>0.037775</td>\n",
       "    </tr>\n",
       "    <tr>\n",
       "      <th>19</th>\n",
       "      <td>03-31-2023 16:38</td>\n",
       "      <td>General</td>\n",
       "      <td>TWITTER</td>\n",
       "      <td>N/A</td>\n",
       "      <td>0</td>\n",
       "      <td>0</td>\n",
       "      <td>Photo</td>\n",
       "      <td>0.000000</td>\n",
       "    </tr>\n",
       "  </tbody>\n",
       "</table>\n",
       "</div>"
      ],
      "text/plain": [
       "      Published Date   Account Account Type          Campaign Name  \\\n",
       "0   03-31-2023 19:55      CSGO      TWITTER                   N/A    \n",
       "1   03-31-2023 19:49      CSGO      TWITTER                   N/A    \n",
       "2   03-31-2023 19:49      CSGO      TWITTER                   N/A    \n",
       "3   03-31-2023 19:49      CSGO      TWITTER                   N/A    \n",
       "4   03-31-2023 19:43      CSGO      TWITTER  Community Engagement    \n",
       "5   03-31-2023 19:42      CSGO      TWITTER                   N/A    \n",
       "6   03-31-2023 19:40      CSGO      TWITTER  Community Engagement    \n",
       "7   03-31-2023 19:23      CSGO      TWITTER  Community Engagement    \n",
       "8   03-31-2023 19:15      CSGO      TWITTER                   N/A    \n",
       "9   03-31-2023 18:55      CSGO      TWITTER  Community Engagement    \n",
       "10  03-31-2023 18:36  General        FBPAGE  Community Engagement    \n",
       "11  03-31-2023 18:30     DOTA2      TWITTER                   N/A    \n",
       "12  03-31-2023 18:28     DOTA2      TWITTER                   N/A    \n",
       "13  03-31-2023 18:21      CSGO      TWITTER  Community Engagement    \n",
       "14  03-31-2023 17:11  General       TWITTER  Community Engagement    \n",
       "15  03-31-2023 17:09      CSGO      TWITTER  Community Engagement    \n",
       "16  03-31-2023 16:50  General       TWITTER  Community Engagement    \n",
       "17  03-31-2023 16:50  General       TWITTER  Community Engagement    \n",
       "18  03-31-2023 16:38  General       TWITTER  Community Engagement    \n",
       "19  03-31-2023 16:38  General       TWITTER                   N/A    \n",
       "\n",
       "    Total Impressions  Total Engagements Media Type  Engagement Rate  \n",
       "0                   0                  0       Text         0.000000  \n",
       "1                   0                  0       Text         0.000000  \n",
       "2                   0                  0       Text         0.000000  \n",
       "3                   0                  0       Text         0.000000  \n",
       "4                9517               1215      Video         0.127666  \n",
       "5                   0                  0      Photo         0.000000  \n",
       "6                1882                 83      Photo         0.044102  \n",
       "7               17892               3076      Video         0.171920  \n",
       "8                   0                  0      Video         0.000000  \n",
       "9               13874               1447      Video         0.104296  \n",
       "10              37692               8044      Photo         0.213414  \n",
       "11               1013                153       Link         0.151037  \n",
       "12               4630                339      Photo         0.073218  \n",
       "13               2289                 41      Photo         0.017912  \n",
       "14               5216                113       Text         0.021664  \n",
       "15                841                 13      Photo         0.015458  \n",
       "16               6498                123       Text         0.018929  \n",
       "17               8321                133       Text         0.015984  \n",
       "18                953                 36       Text         0.037775  \n",
       "19                  0                  0      Photo         0.000000  "
      ]
     },
     "execution_count": 4,
     "metadata": {},
     "output_type": "execute_result"
    }
   ],
   "source": [
    "df.head(20)"
   ]
  },
  {
   "cell_type": "code",
   "execution_count": 5,
   "id": "39040cd9",
   "metadata": {},
   "outputs": [],
   "source": [
    "# clear the incorrect values (Total Engagements should be smaller than Total Impressions)\n",
    "df = df[df['Engagement Rate'] <= 1]"
   ]
  },
  {
   "cell_type": "markdown",
   "id": "ba297511",
   "metadata": {},
   "source": [
    "## 1. What is the typical engagement rate we can expect? What’s the likelihood that we can achieve a 15% engagement rate?"
   ]
  },
  {
   "cell_type": "code",
   "execution_count": 6,
   "id": "87f2b1bc",
   "metadata": {},
   "outputs": [
    {
     "data": {
      "text/plain": [
       "0.04202719749774869"
      ]
     },
     "execution_count": 6,
     "metadata": {},
     "output_type": "execute_result"
    }
   ],
   "source": [
    "typical_engagement_rate = np.mean(df['Engagement Rate'])\n",
    "typical_engagement_rate"
   ]
  },
  {
   "cell_type": "markdown",
   "id": "b181c4dc",
   "metadata": {},
   "source": [
    "We can expect a typical engagement rate of 4.2%."
   ]
  },
  {
   "cell_type": "code",
   "execution_count": 7,
   "id": "a8a7092b",
   "metadata": {},
   "outputs": [
    {
     "data": {
      "text/plain": [
       "0.0641542002301496"
      ]
     },
     "execution_count": 7,
     "metadata": {},
     "output_type": "execute_result"
    }
   ],
   "source": [
    "likelihood_15 = len(df[df['Engagement Rate'] >= 0.15])/len(df)\n",
    "likelihood_15"
   ]
  },
  {
   "cell_type": "markdown",
   "id": "d606c6b2",
   "metadata": {},
   "source": [
    "There's a 6.4% possibility that we can achieve a 15% engagement rate."
   ]
  },
  {
   "cell_type": "markdown",
   "id": "ee1d2f89",
   "metadata": {},
   "source": [
    "## 2. Does day of the week and time of posting affect engagement rates?"
   ]
  },
  {
   "cell_type": "markdown",
   "id": "76c39cad",
   "metadata": {},
   "source": [
    "Define the time of posting: morning, 6am to 12pm; afternoon, 12pm to 6pm; evening, 6pm to 12am; midnight, 12am to 6am."
   ]
  },
  {
   "cell_type": "code",
   "execution_count": 8,
   "id": "60fdcf11",
   "metadata": {},
   "outputs": [],
   "source": [
    "df['Published Date'] = pd.to_datetime(df['Published Date'], format='%m-%d-%Y %H:%M')\n",
    "df['Weekday'] = df['Published Date'].dt.strftime('%A')\n",
    "df['Time'] = df['Published Date'].dt.strftime('%H:%M:%S')"
   ]
  },
  {
   "cell_type": "code",
   "execution_count": 9,
   "id": "fc4ca263",
   "metadata": {},
   "outputs": [],
   "source": [
    "# The affect of the day of the week\n",
    "Mon = df[df['Weekday']=='Monday'][['Engagement Rate']]\n",
    "Tue = df[df['Weekday']=='Tuesday'][['Engagement Rate']]\n",
    "Wed = df[df['Weekday']=='Wednesday'][['Engagement Rate']]\n",
    "Thu = df[df['Weekday']=='Thursday'][['Engagement Rate']]\n",
    "Fri = df[df['Weekday']=='Friday'][['Engagement Rate']]\n",
    "Sat = df[df['Weekday']=='Saturday'][['Engagement Rate']]\n",
    "Sun = df[df['Weekday']=='Sunday'][['Engagement Rate']]"
   ]
  },
  {
   "cell_type": "code",
   "execution_count": 10,
   "id": "8d836bfe",
   "metadata": {},
   "outputs": [
    {
     "name": "stdout",
     "output_type": "stream",
     "text": [
      "Average engagement rate of Monday: 0.03590709774823276\n",
      "Average engagement rate of Tuesday: 0.05055946106431564\n",
      "Average engagement rate of Wednesday: 0.033228311483288996\n",
      "Average engagement rate of Thursday: 0.04915714301580139\n",
      "Average engagement rate of Friday: 0.04195042154572666\n",
      "Average engagement rate of Saturday: 0.03068646671359168\n",
      "Average engagement rate of Sunday: 0.042977609764699644\n"
     ]
    }
   ],
   "source": [
    "print('Average engagement rate of Monday:',np.mean(Mon['Engagement Rate']))\n",
    "print('Average engagement rate of Tuesday:',np.mean(Tue['Engagement Rate']))\n",
    "print('Average engagement rate of Wednesday:',np.mean(Wed['Engagement Rate']))\n",
    "print('Average engagement rate of Thursday:',np.mean(Thu['Engagement Rate']))\n",
    "print('Average engagement rate of Friday:',np.mean(Fri['Engagement Rate']))\n",
    "print('Average engagement rate of Saturday:',np.mean(Sat['Engagement Rate']))\n",
    "print('Average engagement rate of Sunday:',np.mean(Sun['Engagement Rate']))"
   ]
  },
  {
   "cell_type": "markdown",
   "id": "512f9465",
   "metadata": {},
   "source": [
    "Posting on Tuesdays and Thursdays have the best results while on Saturdays the least."
   ]
  },
  {
   "cell_type": "code",
   "execution_count": 11,
   "id": "a2653592",
   "metadata": {},
   "outputs": [],
   "source": [
    "# The affect of the time\n",
    "df['Time'] = pd.to_datetime(df['Time'])\n",
    "\n",
    "morning_range = pd.to_datetime('6:00:00').time(), pd.to_datetime('12:00:00').time()\n",
    "afternoon_range = pd.to_datetime('12:00:00').time(), pd.to_datetime('18:00:00').time()\n",
    "evening_range = pd.to_datetime('18:00:00').time(), pd.to_datetime('23:59:59').time()\n",
    "\n",
    "def categorize_time(time):\n",
    "    if morning_range[0] <= time < morning_range[1]:\n",
    "        return 'Morning'\n",
    "    elif afternoon_range[0] <= time < afternoon_range[1]:\n",
    "        return 'Afternoon'\n",
    "    elif evening_range[0] <= time < evening_range[1]:\n",
    "        return 'Evening'\n",
    "    else:\n",
    "        return 'Midnight'\n",
    "\n",
    "df['TimeCategory'] = df['Time'].dt.time.apply(categorize_time)"
   ]
  },
  {
   "cell_type": "code",
   "execution_count": 12,
   "id": "aadc00c1",
   "metadata": {},
   "outputs": [
    {
     "data": {
      "text/html": [
       "<div>\n",
       "<style scoped>\n",
       "    .dataframe tbody tr th:only-of-type {\n",
       "        vertical-align: middle;\n",
       "    }\n",
       "\n",
       "    .dataframe tbody tr th {\n",
       "        vertical-align: top;\n",
       "    }\n",
       "\n",
       "    .dataframe thead th {\n",
       "        text-align: right;\n",
       "    }\n",
       "</style>\n",
       "<table border=\"1\" class=\"dataframe\">\n",
       "  <thead>\n",
       "    <tr style=\"text-align: right;\">\n",
       "      <th></th>\n",
       "      <th>Published Date</th>\n",
       "      <th>Account</th>\n",
       "      <th>Account Type</th>\n",
       "      <th>Campaign Name</th>\n",
       "      <th>Total Impressions</th>\n",
       "      <th>Total Engagements</th>\n",
       "      <th>Media Type</th>\n",
       "      <th>Engagement Rate</th>\n",
       "      <th>Weekday</th>\n",
       "      <th>Time</th>\n",
       "      <th>TimeCategory</th>\n",
       "    </tr>\n",
       "  </thead>\n",
       "  <tbody>\n",
       "    <tr>\n",
       "      <th>0</th>\n",
       "      <td>2023-03-31 19:55:00</td>\n",
       "      <td>CSGO</td>\n",
       "      <td>TWITTER</td>\n",
       "      <td>N/A</td>\n",
       "      <td>0</td>\n",
       "      <td>0</td>\n",
       "      <td>Text</td>\n",
       "      <td>0.000000</td>\n",
       "      <td>Friday</td>\n",
       "      <td>2023-05-29 19:55:00</td>\n",
       "      <td>Evening</td>\n",
       "    </tr>\n",
       "    <tr>\n",
       "      <th>1</th>\n",
       "      <td>2023-03-31 19:49:00</td>\n",
       "      <td>CSGO</td>\n",
       "      <td>TWITTER</td>\n",
       "      <td>N/A</td>\n",
       "      <td>0</td>\n",
       "      <td>0</td>\n",
       "      <td>Text</td>\n",
       "      <td>0.000000</td>\n",
       "      <td>Friday</td>\n",
       "      <td>2023-05-29 19:49:00</td>\n",
       "      <td>Evening</td>\n",
       "    </tr>\n",
       "    <tr>\n",
       "      <th>2</th>\n",
       "      <td>2023-03-31 19:49:00</td>\n",
       "      <td>CSGO</td>\n",
       "      <td>TWITTER</td>\n",
       "      <td>N/A</td>\n",
       "      <td>0</td>\n",
       "      <td>0</td>\n",
       "      <td>Text</td>\n",
       "      <td>0.000000</td>\n",
       "      <td>Friday</td>\n",
       "      <td>2023-05-29 19:49:00</td>\n",
       "      <td>Evening</td>\n",
       "    </tr>\n",
       "    <tr>\n",
       "      <th>3</th>\n",
       "      <td>2023-03-31 19:49:00</td>\n",
       "      <td>CSGO</td>\n",
       "      <td>TWITTER</td>\n",
       "      <td>N/A</td>\n",
       "      <td>0</td>\n",
       "      <td>0</td>\n",
       "      <td>Text</td>\n",
       "      <td>0.000000</td>\n",
       "      <td>Friday</td>\n",
       "      <td>2023-05-29 19:49:00</td>\n",
       "      <td>Evening</td>\n",
       "    </tr>\n",
       "    <tr>\n",
       "      <th>4</th>\n",
       "      <td>2023-03-31 19:43:00</td>\n",
       "      <td>CSGO</td>\n",
       "      <td>TWITTER</td>\n",
       "      <td>Community Engagement</td>\n",
       "      <td>9517</td>\n",
       "      <td>1215</td>\n",
       "      <td>Video</td>\n",
       "      <td>0.127666</td>\n",
       "      <td>Friday</td>\n",
       "      <td>2023-05-29 19:43:00</td>\n",
       "      <td>Evening</td>\n",
       "    </tr>\n",
       "    <tr>\n",
       "      <th>...</th>\n",
       "      <td>...</td>\n",
       "      <td>...</td>\n",
       "      <td>...</td>\n",
       "      <td>...</td>\n",
       "      <td>...</td>\n",
       "      <td>...</td>\n",
       "      <td>...</td>\n",
       "      <td>...</td>\n",
       "      <td>...</td>\n",
       "      <td>...</td>\n",
       "      <td>...</td>\n",
       "    </tr>\n",
       "    <tr>\n",
       "      <th>3474</th>\n",
       "      <td>2023-01-03 10:35:00</td>\n",
       "      <td>CSGO</td>\n",
       "      <td>TWITTER</td>\n",
       "      <td>N/A</td>\n",
       "      <td>0</td>\n",
       "      <td>0</td>\n",
       "      <td>Link</td>\n",
       "      <td>0.000000</td>\n",
       "      <td>Tuesday</td>\n",
       "      <td>2023-05-29 10:35:00</td>\n",
       "      <td>Morning</td>\n",
       "    </tr>\n",
       "    <tr>\n",
       "      <th>3475</th>\n",
       "      <td>2023-01-03 10:34:00</td>\n",
       "      <td>CSGO</td>\n",
       "      <td>TWITTER</td>\n",
       "      <td>N/A</td>\n",
       "      <td>0</td>\n",
       "      <td>0</td>\n",
       "      <td>Link</td>\n",
       "      <td>0.000000</td>\n",
       "      <td>Tuesday</td>\n",
       "      <td>2023-05-29 10:34:00</td>\n",
       "      <td>Morning</td>\n",
       "    </tr>\n",
       "    <tr>\n",
       "      <th>3476</th>\n",
       "      <td>2023-01-03 10:34:00</td>\n",
       "      <td>CSGO</td>\n",
       "      <td>TWITTER</td>\n",
       "      <td>N/A</td>\n",
       "      <td>0</td>\n",
       "      <td>0</td>\n",
       "      <td>Link</td>\n",
       "      <td>0.000000</td>\n",
       "      <td>Tuesday</td>\n",
       "      <td>2023-05-29 10:34:00</td>\n",
       "      <td>Morning</td>\n",
       "    </tr>\n",
       "    <tr>\n",
       "      <th>3477</th>\n",
       "      <td>2023-01-03 10:34:00</td>\n",
       "      <td>CSGO</td>\n",
       "      <td>TWITTER</td>\n",
       "      <td>N/A</td>\n",
       "      <td>2116</td>\n",
       "      <td>42</td>\n",
       "      <td>Text</td>\n",
       "      <td>0.019849</td>\n",
       "      <td>Tuesday</td>\n",
       "      <td>2023-05-29 10:34:00</td>\n",
       "      <td>Morning</td>\n",
       "    </tr>\n",
       "    <tr>\n",
       "      <th>3478</th>\n",
       "      <td>2023-01-01 14:59:00</td>\n",
       "      <td>General</td>\n",
       "      <td>FBPAGE</td>\n",
       "      <td>N/A</td>\n",
       "      <td>0</td>\n",
       "      <td>0</td>\n",
       "      <td>Photo</td>\n",
       "      <td>0.000000</td>\n",
       "      <td>Sunday</td>\n",
       "      <td>2023-05-29 14:59:00</td>\n",
       "      <td>Afternoon</td>\n",
       "    </tr>\n",
       "  </tbody>\n",
       "</table>\n",
       "<p>3476 rows × 11 columns</p>\n",
       "</div>"
      ],
      "text/plain": [
       "          Published Date   Account Account Type          Campaign Name  \\\n",
       "0    2023-03-31 19:55:00      CSGO      TWITTER                   N/A    \n",
       "1    2023-03-31 19:49:00      CSGO      TWITTER                   N/A    \n",
       "2    2023-03-31 19:49:00      CSGO      TWITTER                   N/A    \n",
       "3    2023-03-31 19:49:00      CSGO      TWITTER                   N/A    \n",
       "4    2023-03-31 19:43:00      CSGO      TWITTER  Community Engagement    \n",
       "...                  ...       ...          ...                    ...   \n",
       "3474 2023-01-03 10:35:00      CSGO      TWITTER                   N/A    \n",
       "3475 2023-01-03 10:34:00      CSGO      TWITTER                   N/A    \n",
       "3476 2023-01-03 10:34:00      CSGO      TWITTER                   N/A    \n",
       "3477 2023-01-03 10:34:00      CSGO      TWITTER                   N/A    \n",
       "3478 2023-01-01 14:59:00  General        FBPAGE                   N/A    \n",
       "\n",
       "      Total Impressions  Total Engagements Media Type  Engagement Rate  \\\n",
       "0                     0                  0       Text         0.000000   \n",
       "1                     0                  0       Text         0.000000   \n",
       "2                     0                  0       Text         0.000000   \n",
       "3                     0                  0       Text         0.000000   \n",
       "4                  9517               1215      Video         0.127666   \n",
       "...                 ...                ...        ...              ...   \n",
       "3474                  0                  0       Link         0.000000   \n",
       "3475                  0                  0       Link         0.000000   \n",
       "3476                  0                  0       Link         0.000000   \n",
       "3477               2116                 42       Text         0.019849   \n",
       "3478                  0                  0      Photo         0.000000   \n",
       "\n",
       "      Weekday                Time TimeCategory  \n",
       "0      Friday 2023-05-29 19:55:00      Evening  \n",
       "1      Friday 2023-05-29 19:49:00      Evening  \n",
       "2      Friday 2023-05-29 19:49:00      Evening  \n",
       "3      Friday 2023-05-29 19:49:00      Evening  \n",
       "4      Friday 2023-05-29 19:43:00      Evening  \n",
       "...       ...                 ...          ...  \n",
       "3474  Tuesday 2023-05-29 10:35:00      Morning  \n",
       "3475  Tuesday 2023-05-29 10:34:00      Morning  \n",
       "3476  Tuesday 2023-05-29 10:34:00      Morning  \n",
       "3477  Tuesday 2023-05-29 10:34:00      Morning  \n",
       "3478   Sunday 2023-05-29 14:59:00    Afternoon  \n",
       "\n",
       "[3476 rows x 11 columns]"
      ]
     },
     "execution_count": 12,
     "metadata": {},
     "output_type": "execute_result"
    }
   ],
   "source": [
    "df"
   ]
  },
  {
   "cell_type": "code",
   "execution_count": 13,
   "id": "69fa9370",
   "metadata": {},
   "outputs": [],
   "source": [
    "Morning = df[df['TimeCategory']=='Morning'][['Engagement Rate']]\n",
    "Afternoon = df[df['TimeCategory']=='Afternoon'][['Engagement Rate']]\n",
    "Evening = df[df['TimeCategory']=='Evening'][['Engagement Rate']]\n",
    "Midnight = df[df['TimeCategory']=='Midnight'][['Engagement Rate']]"
   ]
  },
  {
   "cell_type": "code",
   "execution_count": 14,
   "id": "285cdf6c",
   "metadata": {},
   "outputs": [
    {
     "name": "stdout",
     "output_type": "stream",
     "text": [
      "Average engagement rate of Morning: 0.04431746082324727\n",
      "Average engagement rate of Afternoon: 0.04017833327012438\n",
      "Average engagement rate of Evening: 0.034661934422279966\n",
      "Average engagement rate of Midnight: 0.07876962933652779\n"
     ]
    }
   ],
   "source": [
    "print('Average engagement rate of Morning:',np.mean(Morning['Engagement Rate']))\n",
    "print('Average engagement rate of Afternoon:',np.mean(Afternoon['Engagement Rate']))\n",
    "print('Average engagement rate of Evening:',np.mean(Evening['Engagement Rate']))\n",
    "print('Average engagement rate of Midnight:',np.mean(Midnight['Engagement Rate']))"
   ]
  },
  {
   "cell_type": "markdown",
   "id": "3c1a6253",
   "metadata": {},
   "source": [
    "It shows that post at the midnight (between 12am and 6am) is the best choice. Furthermore, during my adjustment of time period, I found out that post between 3am to 6am generates best engagement rate."
   ]
  },
  {
   "cell_type": "markdown",
   "id": "bbe69fa0",
   "metadata": {},
   "source": [
    "## 3. How are our game titles doing in terms of social performance? Is there a specific game we should focus more on or less?\n"
   ]
  },
  {
   "cell_type": "code",
   "execution_count": 15,
   "id": "64ab76a6",
   "metadata": {},
   "outputs": [
    {
     "data": {
      "text/plain": [
       "array(['CSGO', 'General ', 'DOTA2', 'Content Creators', 'Valorant',\n",
       "       'General'], dtype=object)"
      ]
     },
     "execution_count": 15,
     "metadata": {},
     "output_type": "execute_result"
    }
   ],
   "source": [
    "df['Account'].unique()"
   ]
  },
  {
   "cell_type": "code",
   "execution_count": 16,
   "id": "ff9ac56f",
   "metadata": {},
   "outputs": [],
   "source": [
    "# There's three kinds of game titles, CSGO, DOTA2, and Valorant."
   ]
  },
  {
   "cell_type": "code",
   "execution_count": 17,
   "id": "a2d9e3c6",
   "metadata": {},
   "outputs": [],
   "source": [
    "CSGO = df[df['Account']=='CSGO'][['Engagement Rate']]\n",
    "DOTA2 = df[df['Account']=='DOTA2'][['Engagement Rate']]\n",
    "Valorant = df[df['Account']=='Valorant'][['Engagement Rate']]"
   ]
  },
  {
   "cell_type": "code",
   "execution_count": 18,
   "id": "89aa2196",
   "metadata": {},
   "outputs": [
    {
     "name": "stdout",
     "output_type": "stream",
     "text": [
      "Average engagement rate of CSGO: 0.03030546583785255\n",
      "Average engagement rate of DOTA2: 0.042982945081462456\n",
      "Average engagement rate of Valorant: 0.030248610739033236\n"
     ]
    }
   ],
   "source": [
    "print('Average engagement rate of CSGO:',np.mean(CSGO['Engagement Rate']))\n",
    "print('Average engagement rate of DOTA2:',np.mean(DOTA2['Engagement Rate']))\n",
    "print('Average engagement rate of Valorant:',np.mean(Valorant['Engagement Rate']))"
   ]
  },
  {
   "cell_type": "markdown",
   "id": "5f40b3ef",
   "metadata": {},
   "source": [
    "As shown above, Dota2 has the highest average engagement rate, which shows better social performance. CSGO and Valorant ranks the second and third respectively, with very close engagement rates.\n",
    "\n",
    "You should focus more on Dota2."
   ]
  },
  {
   "cell_type": "markdown",
   "id": "6300eedd",
   "metadata": {},
   "source": [
    "## 4. What media type performs the best?"
   ]
  },
  {
   "cell_type": "code",
   "execution_count": 19,
   "id": "2db12f82",
   "metadata": {},
   "outputs": [
    {
     "data": {
      "text/plain": [
       "array(['Text', 'Video', 'Photo', 'Link', 'Carousel', 'Mixed', 'Album'],\n",
       "      dtype=object)"
      ]
     },
     "execution_count": 19,
     "metadata": {},
     "output_type": "execute_result"
    }
   ],
   "source": [
    "df['Media Type'].unique()"
   ]
  },
  {
   "cell_type": "code",
   "execution_count": 20,
   "id": "3d52a060",
   "metadata": {},
   "outputs": [],
   "source": [
    "Text = df[df['Media Type']=='Text'][['Engagement Rate']]\n",
    "Video = df[df['Media Type']=='Video'][['Engagement Rate']]\n",
    "Photo = df[df['Media Type']=='Photo'][['Engagement Rate']]\n",
    "Link = df[df['Media Type']=='Link'][['Engagement Rate']]\n",
    "Carousel = df[df['Media Type']=='Carousel'][['Engagement Rate']]\n",
    "Mixed = df[df['Media Type']=='Mixed'][['Engagement Rate']]\n",
    "Album = df[df['Media Type']=='Album'][['Engagement Rate']]"
   ]
  },
  {
   "cell_type": "code",
   "execution_count": 21,
   "id": "a6a76ad4",
   "metadata": {},
   "outputs": [
    {
     "name": "stdout",
     "output_type": "stream",
     "text": [
      "Average engagement rate of Text: 0.024593182108928344\n",
      "Average engagement rate of Video: 0.04903492549411455\n",
      "Average engagement rate of Photo: 0.04941047250277917\n",
      "Average engagement rate of Link: 0.016356307071898942\n",
      "Average engagement rate of Carousel: 0.04903492549411455\n",
      "Average engagement rate of Mixed: 0.10770357433045749\n",
      "Average engagement rate of Album: 0.1\n"
     ]
    }
   ],
   "source": [
    "print('Average engagement rate of Text:',np.mean(Text['Engagement Rate']))\n",
    "print('Average engagement rate of Video:',np.mean(Video['Engagement Rate']))\n",
    "print('Average engagement rate of Photo:',np.mean(Photo['Engagement Rate']))\n",
    "print('Average engagement rate of Link:',np.mean(Link['Engagement Rate']))\n",
    "print('Average engagement rate of Carousel:',np.mean(Video['Engagement Rate']))\n",
    "print('Average engagement rate of Mixed:',np.mean(Mixed['Engagement Rate']))\n",
    "print('Average engagement rate of Album:',np.mean(Album['Engagement Rate']))"
   ]
  },
  {
   "cell_type": "markdown",
   "id": "8d2a0c9a",
   "metadata": {},
   "source": [
    "The mixed type of media performs the best."
   ]
  },
  {
   "cell_type": "markdown",
   "id": "6abe0005",
   "metadata": {},
   "source": [
    "## 5. What is our best performing campaign?"
   ]
  },
  {
   "cell_type": "code",
   "execution_count": 22,
   "id": "8410a752",
   "metadata": {},
   "outputs": [
    {
     "data": {
      "text/plain": [
       "array(['N/A ', 'Community Engagement ', 'Evergreen ', 'Evil Exhibited '],\n",
       "      dtype=object)"
      ]
     },
     "execution_count": 22,
     "metadata": {},
     "output_type": "execute_result"
    }
   ],
   "source": [
    "df['Campaign Name'].unique()"
   ]
  },
  {
   "cell_type": "code",
   "execution_count": 23,
   "id": "660b23de",
   "metadata": {},
   "outputs": [],
   "source": [
    "Community_Engagement = df[df['Campaign Name']=='Community Engagement '][['Engagement Rate']]\n",
    "Evergreen = df[df['Campaign Name']=='Evergreen '][['Engagement Rate']]\n",
    "Evil_Exhibited = df[df['Campaign Name']=='Evil Exhibited '][['Engagement Rate']]"
   ]
  },
  {
   "cell_type": "code",
   "execution_count": 24,
   "id": "fc9dfc07",
   "metadata": {},
   "outputs": [
    {
     "name": "stdout",
     "output_type": "stream",
     "text": [
      "Average engagement rate of Community Engagement: 0.05634546823013558\n",
      "Average engagement rate of Evergreen: 0.03467473597135328\n",
      "Average engagement rate of Evil Exhibited: 0.02681813193874859\n"
     ]
    }
   ],
   "source": [
    "print('Average engagement rate of Community Engagement:',np.mean(Community_Engagement['Engagement Rate']))\n",
    "print('Average engagement rate of Evergreen:',np.mean(Evergreen['Engagement Rate']))\n",
    "print('Average engagement rate of Evil Exhibited:',np.mean(Evil_Exhibited['Engagement Rate']))"
   ]
  },
  {
   "cell_type": "markdown",
   "id": "8741ba36",
   "metadata": {},
   "source": [
    "Community Engagement is your best performing campaign."
   ]
  },
  {
   "cell_type": "markdown",
   "id": "693a6c94",
   "metadata": {},
   "source": [
    "## 6. Define out a posting strategy for our social channels based on your discoveries."
   ]
  },
  {
   "cell_type": "markdown",
   "id": "fe03aa75",
   "metadata": {},
   "source": [
    "The best posting strategy is to post between 3am and 6am on Tuesdays and Thursdays. Focusing more on the DOTA2 and using a mixed media type to perform in the form of Community Engagement campaign."
   ]
  },
  {
   "cell_type": "markdown",
   "id": "41623b6c",
   "metadata": {},
   "source": [
    "## 7. What suggestions would you give to the social media team if they want to expand their presence (e.g. if our CSGO youtube channel is doing well should we expand to TikTok)?\n"
   ]
  },
  {
   "cell_type": "code",
   "execution_count": 25,
   "id": "104cb2e5",
   "metadata": {},
   "outputs": [
    {
     "data": {
      "text/plain": [
       "array(['TWITTER', 'FBPAGE', 'INSTAGRAM', 'TIKTOK_BUSINESS', 'YOUTUBE',\n",
       "       'LINKEDIN_COMPANY'], dtype=object)"
      ]
     },
     "execution_count": 25,
     "metadata": {},
     "output_type": "execute_result"
    }
   ],
   "source": [
    "df['Account Type'].unique()"
   ]
  },
  {
   "cell_type": "code",
   "execution_count": 26,
   "id": "b96463fc",
   "metadata": {},
   "outputs": [],
   "source": [
    "TWITTER = df[df['Account Type']=='TWITTER'][['Engagement Rate']]\n",
    "FBPAGE = df[df['Account Type']=='FBPAGE'][['Engagement Rate']]\n",
    "INSTAGRAM = df[df['Account Type']=='INSTAGRAM'][['Engagement Rate']]\n",
    "TIKTOK_BUSINESS = df[df['Account Type']=='TIKTOK_BUSINESS'][['Engagement Rate']]\n",
    "YOUTUBE = df[df['Account Type']=='YOUTUBE'][['Engagement Rate']]\n",
    "LINKEDIN_COMPANY = df[df['Account Type']=='LINKEDIN_COMPANY'][['Engagement Rate']]"
   ]
  },
  {
   "cell_type": "code",
   "execution_count": 27,
   "id": "c4ed2387",
   "metadata": {},
   "outputs": [
    {
     "name": "stdout",
     "output_type": "stream",
     "text": [
      "Average engagement rate of TWITTER: 0.03248994362323402\n",
      "Average engagement rate of FBPAGE: 0.11283107736417851\n",
      "Average engagement rate of INSTAGRAM: 0.006667685037885008\n",
      "Average engagement rate of TIKTOK_BUSINESS: 0.05316753027542646\n",
      "Average engagement rate of YOUTUBE: 0.03048880773178242\n",
      "Average engagement rate of LINKEDIN_COMPANY: 0.01795018376823973\n"
     ]
    }
   ],
   "source": [
    "print('Average engagement rate of TWITTER:',np.mean(TWITTER['Engagement Rate']))\n",
    "print('Average engagement rate of FBPAGE:',np.mean(FBPAGE['Engagement Rate']))\n",
    "print('Average engagement rate of INSTAGRAM:',np.mean(INSTAGRAM['Engagement Rate']))\n",
    "print('Average engagement rate of TIKTOK_BUSINESS:',np.mean(TIKTOK_BUSINESS['Engagement Rate']))\n",
    "print('Average engagement rate of YOUTUBE:',np.mean(YOUTUBE['Engagement Rate']))\n",
    "print('Average engagement rate of LINKEDIN_COMPANY:',np.mean(LINKEDIN_COMPANY['Engagement Rate']))"
   ]
  },
  {
   "cell_type": "markdown",
   "id": "08d9a2e4",
   "metadata": {},
   "source": [
    "Facebook performs the best in all."
   ]
  },
  {
   "cell_type": "markdown",
   "id": "dbcdb5a4",
   "metadata": {},
   "source": [
    "### Game Specified"
   ]
  },
  {
   "cell_type": "code",
   "execution_count": 28,
   "id": "17b9b4a1",
   "metadata": {},
   "outputs": [
    {
     "name": "stderr",
     "output_type": "stream",
     "text": [
      "/var/folders/l7/1vh6vssd3t1cqz02n1rv3c080000gn/T/ipykernel_23155/2243202864.py:3: FutureWarning: The default value of numeric_only in DataFrameGroupBy.mean is deprecated. In a future version, numeric_only will default to False. Either specify numeric_only or select only columns which should be valid for the function.\n",
      "  df1_1 = df1.groupby('Account Type').mean()\n"
     ]
    },
    {
     "data": {
      "text/html": [
       "<div>\n",
       "<style scoped>\n",
       "    .dataframe tbody tr th:only-of-type {\n",
       "        vertical-align: middle;\n",
       "    }\n",
       "\n",
       "    .dataframe tbody tr th {\n",
       "        vertical-align: top;\n",
       "    }\n",
       "\n",
       "    .dataframe thead th {\n",
       "        text-align: right;\n",
       "    }\n",
       "</style>\n",
       "<table border=\"1\" class=\"dataframe\">\n",
       "  <thead>\n",
       "    <tr style=\"text-align: right;\">\n",
       "      <th></th>\n",
       "      <th>Total Impressions</th>\n",
       "      <th>Total Engagements</th>\n",
       "      <th>Engagement Rate</th>\n",
       "    </tr>\n",
       "    <tr>\n",
       "      <th>Account Type</th>\n",
       "      <th></th>\n",
       "      <th></th>\n",
       "      <th></th>\n",
       "    </tr>\n",
       "  </thead>\n",
       "  <tbody>\n",
       "    <tr>\n",
       "      <th>TWITTER</th>\n",
       "      <td>8570.066667</td>\n",
       "      <td>341.985185</td>\n",
       "      <td>0.030305</td>\n",
       "    </tr>\n",
       "  </tbody>\n",
       "</table>\n",
       "</div>"
      ],
      "text/plain": [
       "              Total Impressions  Total Engagements  Engagement Rate\n",
       "Account Type                                                       \n",
       "TWITTER             8570.066667         341.985185         0.030305"
      ]
     },
     "execution_count": 28,
     "metadata": {},
     "output_type": "execute_result"
    }
   ],
   "source": [
    "# CSGO\n",
    "df1 = df[df['Account']=='CSGO']\n",
    "df1_1 = df1.groupby('Account Type').mean()\n",
    "df1_1"
   ]
  },
  {
   "cell_type": "code",
   "execution_count": 29,
   "id": "af48b94a",
   "metadata": {},
   "outputs": [
    {
     "data": {
      "text/plain": [
       "array(['TWITTER'], dtype=object)"
      ]
     },
     "execution_count": 29,
     "metadata": {},
     "output_type": "execute_result"
    }
   ],
   "source": [
    "df1['Account Type'].unique()"
   ]
  },
  {
   "cell_type": "markdown",
   "id": "b5b9ccb2",
   "metadata": {},
   "source": [
    "CSGO is only posted on twitter and the performance is below the average level of all psots on twitter. Thus, it's necessary to expand to other platform with better performance, like facebook, youtube and tiktok."
   ]
  },
  {
   "cell_type": "code",
   "execution_count": 30,
   "id": "cf59666e",
   "metadata": {},
   "outputs": [
    {
     "name": "stderr",
     "output_type": "stream",
     "text": [
      "/var/folders/l7/1vh6vssd3t1cqz02n1rv3c080000gn/T/ipykernel_23155/495657275.py:3: FutureWarning: The default value of numeric_only in DataFrameGroupBy.mean is deprecated. In a future version, numeric_only will default to False. Either specify numeric_only or select only columns which should be valid for the function.\n",
      "  df2_1 = df2.groupby('Account Type').mean()\n"
     ]
    },
    {
     "data": {
      "text/html": [
       "<div>\n",
       "<style scoped>\n",
       "    .dataframe tbody tr th:only-of-type {\n",
       "        vertical-align: middle;\n",
       "    }\n",
       "\n",
       "    .dataframe tbody tr th {\n",
       "        vertical-align: top;\n",
       "    }\n",
       "\n",
       "    .dataframe thead th {\n",
       "        text-align: right;\n",
       "    }\n",
       "</style>\n",
       "<table border=\"1\" class=\"dataframe\">\n",
       "  <thead>\n",
       "    <tr style=\"text-align: right;\">\n",
       "      <th></th>\n",
       "      <th>Total Impressions</th>\n",
       "      <th>Total Engagements</th>\n",
       "      <th>Engagement Rate</th>\n",
       "    </tr>\n",
       "    <tr>\n",
       "      <th>Account Type</th>\n",
       "      <th></th>\n",
       "      <th></th>\n",
       "      <th></th>\n",
       "    </tr>\n",
       "  </thead>\n",
       "  <tbody>\n",
       "    <tr>\n",
       "      <th>TWITTER</th>\n",
       "      <td>2252.592453</td>\n",
       "      <td>150.174843</td>\n",
       "      <td>0.043100</td>\n",
       "    </tr>\n",
       "    <tr>\n",
       "      <th>YOUTUBE</th>\n",
       "      <td>8564.375000</td>\n",
       "      <td>575.125000</td>\n",
       "      <td>0.031323</td>\n",
       "    </tr>\n",
       "  </tbody>\n",
       "</table>\n",
       "</div>"
      ],
      "text/plain": [
       "              Total Impressions  Total Engagements  Engagement Rate\n",
       "Account Type                                                       \n",
       "TWITTER             2252.592453         150.174843         0.043100\n",
       "YOUTUBE             8564.375000         575.125000         0.031323"
      ]
     },
     "execution_count": 30,
     "metadata": {},
     "output_type": "execute_result"
    }
   ],
   "source": [
    "# DOTA2\n",
    "df2 = df[df['Account']=='DOTA2']\n",
    "df2_1 = df2.groupby('Account Type').mean()\n",
    "df2_1"
   ]
  },
  {
   "cell_type": "markdown",
   "id": "dd8b82e2",
   "metadata": {},
   "source": [
    "DOTA2 performs very well on both platforms with engagement rates beyond the average. And it can expand to facebook and tiktok to seek for higher rates either."
   ]
  },
  {
   "cell_type": "code",
   "execution_count": 31,
   "id": "6f25ff1a",
   "metadata": {},
   "outputs": [
    {
     "name": "stderr",
     "output_type": "stream",
     "text": [
      "/var/folders/l7/1vh6vssd3t1cqz02n1rv3c080000gn/T/ipykernel_23155/4262206161.py:3: FutureWarning: The default value of numeric_only in DataFrameGroupBy.mean is deprecated. In a future version, numeric_only will default to False. Either specify numeric_only or select only columns which should be valid for the function.\n",
      "  df3_1 = df3.groupby('Account Type').mean()\n"
     ]
    },
    {
     "data": {
      "text/html": [
       "<div>\n",
       "<style scoped>\n",
       "    .dataframe tbody tr th:only-of-type {\n",
       "        vertical-align: middle;\n",
       "    }\n",
       "\n",
       "    .dataframe tbody tr th {\n",
       "        vertical-align: top;\n",
       "    }\n",
       "\n",
       "    .dataframe thead th {\n",
       "        text-align: right;\n",
       "    }\n",
       "</style>\n",
       "<table border=\"1\" class=\"dataframe\">\n",
       "  <thead>\n",
       "    <tr style=\"text-align: right;\">\n",
       "      <th></th>\n",
       "      <th>Total Impressions</th>\n",
       "      <th>Total Engagements</th>\n",
       "      <th>Engagement Rate</th>\n",
       "    </tr>\n",
       "    <tr>\n",
       "      <th>Account Type</th>\n",
       "      <th></th>\n",
       "      <th></th>\n",
       "      <th></th>\n",
       "    </tr>\n",
       "  </thead>\n",
       "  <tbody>\n",
       "    <tr>\n",
       "      <th>YOUTUBE</th>\n",
       "      <td>382.983333</td>\n",
       "      <td>15.516667</td>\n",
       "      <td>0.030249</td>\n",
       "    </tr>\n",
       "  </tbody>\n",
       "</table>\n",
       "</div>"
      ],
      "text/plain": [
       "              Total Impressions  Total Engagements  Engagement Rate\n",
       "Account Type                                                       \n",
       "YOUTUBE              382.983333          15.516667         0.030249"
      ]
     },
     "execution_count": 31,
     "metadata": {},
     "output_type": "execute_result"
    }
   ],
   "source": [
    "# Valorant\n",
    "df3 = df[df['Account']=='Valorant']\n",
    "df3_1 = df3.groupby('Account Type').mean()\n",
    "df3_1"
   ]
  },
  {
   "cell_type": "markdown",
   "id": "2880ca1e",
   "metadata": {},
   "source": [
    "Valorant is only posted on youtube and its performance is below the average. It's necessary to expand its presence by entering the twitter, facebook and tiktok platform which may enhance their publicity."
   ]
  }
 ],
 "metadata": {
  "kernelspec": {
   "display_name": "Python 3 (ipykernel)",
   "language": "python",
   "name": "python3"
  },
  "language_info": {
   "codemirror_mode": {
    "name": "ipython",
    "version": 3
   },
   "file_extension": ".py",
   "mimetype": "text/x-python",
   "name": "python",
   "nbconvert_exporter": "python",
   "pygments_lexer": "ipython3",
   "version": "3.10.9"
  }
 },
 "nbformat": 4,
 "nbformat_minor": 5
}
